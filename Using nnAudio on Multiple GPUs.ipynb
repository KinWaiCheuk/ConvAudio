{
 "cells": [
  {
   "cell_type": "code",
   "execution_count": 1,
   "metadata": {},
   "outputs": [],
   "source": [
    "from nnAudio import Spectrogram\n",
    "from Installation.nnAudio import Spectrogram # Use it during testing\n",
    "\n",
    "from librosa import filters\n",
    "import numpy as np\n",
    "import matplotlib.pyplot as plt\n",
    "from time import time\n",
    "import torch"
   ]
  },
  {
   "cell_type": "code",
   "execution_count": 2,
   "metadata": {},
   "outputs": [],
   "source": [
    "# Use cpu if GPU is not found\n",
    "device='cuda:0' if torch.cuda.is_available() else 'cpu'"
   ]
  },
  {
   "cell_type": "code",
   "execution_count": 3,
   "metadata": {},
   "outputs": [],
   "source": [
    "# Creating a dummy signal for the tests later\n",
    "# This time we need multiple samples in a batch\n",
    "# Assume batch size is 512\n",
    "\n",
    "# We create 511 random waveforms\n",
    "x = torch.randn(511,220500, device=device)\n",
    "\n",
    "# create 1 meaningful sine waves\n",
    "fs = 22050\n",
    "s = np.linspace(0,10,fs*10)\n",
    "x_sin = np.sin(2*np.pi*50*s, dtype=np.float32) + np.sin(2*np.pi*100*s, dtype=np.float32) \\\n",
    "    + np.sin(2*np.pi*200*s, dtype=np.float32) + np.sin(2*np.pi*400*s, dtype=np.float32) \\\n",
    "    + np.sin(2*np.pi*800*s, dtype=np.float32) + np.sin(2*np.pi*1600*s, dtype=np.float32) \\\n",
    "    + np.sin(2*np.pi*3200*s, dtype=np.float32) + np.sin(2*np.pi*6400*s, dtype=np.float32)\n",
    "\n",
    "x_sin = torch.tensor(x_sin, device=device).unsqueeze(0)"
   ]
  },
  {
   "cell_type": "code",
   "execution_count": 4,
   "metadata": {},
   "outputs": [],
   "source": [
    "x = torch.cat((x_sin, x))"
   ]
  },
  {
   "cell_type": "markdown",
   "metadata": {},
   "source": [
    "# STFT"
   ]
  },
  {
   "cell_type": "markdown",
   "metadata": {},
   "source": [
    "### nnAudio"
   ]
  },
  {
   "cell_type": "code",
   "execution_count": 5,
   "metadata": {},
   "outputs": [
    {
     "name": "stdout",
     "output_type": "stream",
     "text": [
      "STFT kernels created, time used = 0.2113 seconds\n"
     ]
    }
   ],
   "source": [
    "spec_layer = Spectrogram.STFT(hop_length=512, n_fft=2048, window='hann'\n",
    "                                    , freq_scale='no', device=device)\n",
    "\n",
    "# Using multiple GPU with this nn.DataParallel\n",
    "spec_layer = torch.nn.DataParallel(spec_layer)"
   ]
  },
  {
   "cell_type": "code",
   "execution_count": 6,
   "metadata": {},
   "outputs": [],
   "source": [
    "spec = spec_layer(x)"
   ]
  },
  {
   "cell_type": "code",
   "execution_count": 7,
   "metadata": {},
   "outputs": [
    {
     "data": {
      "text/plain": [
       "Text(0.5, 1.0, 'nnAudio')"
      ]
     },
     "execution_count": 7,
     "metadata": {},
     "output_type": "execute_result"
    },
    {
     "data": {
      "image/png": "[encoded data removed]",
      "text/plain": [
       "<Figure size 432x288 with 1 Axes>"
      ]
     },
     "metadata": {
      "needs_background": "light"
     },
     "output_type": "display_data"
    }
   ],
   "source": [
    "fig, ax = plt.subplots(1, 1, figsize=(6,4))\n",
    "ax.imshow(spec[0].cpu().numpy(),aspect='auto', origin='lower')\n",
    "ax.tick_params(labelsize=16)\n",
    "ax.set_title('nnAudio', size=20)"
   ]
  },
  {
   "cell_type": "markdown",
   "metadata": {},
   "source": [
    "# Melspectrogram"
   ]
  },
  {
   "cell_type": "markdown",
   "metadata": {},
   "source": [
    "### nnAudio"
   ]
  },
  {
   "cell_type": "code",
   "execution_count": 8,
   "metadata": {},
   "outputs": [
    {
     "name": "stdout",
     "output_type": "stream",
     "text": [
      "STFT filter created, time used = 0.0029 seconds\n",
      "Mel filter created, time used = 0.0030 seconds\n"
     ]
    }
   ],
   "source": [
    "spec_layer = Spectrogram.MelSpectrogram(sr=22050, n_fft=2048, n_mels=128, hop_length=512,\n",
    "                                        window='hann', center=True, pad_mode='reflect', \n",
    "                                        power=2.0, htk=False, fmin=0.0, fmax=None, norm=1, \n",
    "                                        verbose=True, device='cuda:0')\n",
    "# Using multiple GPU with this nn.DataParallel\n",
    "spec_layer = torch.nn.DataParallel(spec_layer)\n",
    "spec = spec_layer(x)"
   ]
  },
  {
   "cell_type": "code",
   "execution_count": 9,
   "metadata": {},
   "outputs": [
    {
     "data": {
      "text/plain": [
       "Text(0.5, 1.0, 'nnAudio')"
      ]
     },
     "execution_count": 9,
     "metadata": {},
     "output_type": "execute_result"
    },
    {
     "data": {
      "image/png": "[encoded data removed]",
      "text/plain": [
       "<Figure size 432x288 with 1 Axes>"
      ]
     },
     "metadata": {
      "needs_background": "light"
     },
     "output_type": "display_data"
    }
   ],
   "source": [
    "fig, ax = plt.subplots(1, 1, figsize=(6,4))\n",
    "ax.imshow(spec[0].cpu().numpy(),aspect='auto', origin='lower')\n",
    "ax.tick_params(labelsize=16)\n",
    "ax.set_title('nnAudio', size=20)"
   ]
  },
  {
   "cell_type": "markdown",
   "metadata": {},
   "source": [
    "# CQT"
   ]
  },
  {
   "cell_type": "code",
   "execution_count": 10,
   "metadata": {},
   "outputs": [],
   "source": [
    "from librosa.core import note_to_hz\n",
    "\n",
    "bins = 24 # bins per octave\n",
    "n_bins = 192\n",
    "fmin = note_to_hz('C1')\n",
    "stride = 512"
   ]
  },
  {
   "cell_type": "markdown",
   "metadata": {},
   "source": [
    "### nnAudio"
   ]
  },
  {
   "cell_type": "code",
   "execution_count": 11,
   "metadata": {},
   "outputs": [
    {
     "name": "stdout",
     "output_type": "stream",
     "text": [
      "Creating CQT kernels ...\r",
      "CQT kernels created, time used = 0.1701 seconds\n"
     ]
    }
   ],
   "source": [
    "# Initializing conv1d for CQT 1992 version\n",
    "spec_layer = Spectrogram.CQT1992v2(fs, stride, fmin, fmax=None, n_bins=n_bins,\n",
    "                        bins_per_octave=bins, norm=1,center=True,\n",
    "                        pad_mode='reflect')\n",
    "# Using multiple GPU with this nn.DataParallel\n",
    "spec_layer = torch.nn.DataParallel(spec_layer)\n",
    "spec = spec_layer(x)\n",
    "cqt1992 = spec.cpu().numpy() # saving to RAM for plotting later"
   ]
  },
  {
   "cell_type": "code",
   "execution_count": 12,
   "metadata": {},
   "outputs": [
    {
     "name": "stdout",
     "output_type": "stream",
     "text": [
      "Creating low pass filter ...\r",
      "Low pass filter created, time used = 0.0009 seconds\n",
      "num_octave =  8\n",
      "Creating CQT kernels ...\r",
      "CQT kernels created, time used = 0.0056 seconds\n"
     ]
    }
   ],
   "source": [
    "# Initializing conv1d for CQT 2010v2 version\n",
    "spec_layer = Spectrogram.CQT2010v2(fs, stride, fmin, fmax=None, n_bins=n_bins,\n",
    "                        bins_per_octave=bins,\n",
    "                        pad_mode='reflect', earlydownsample=False)\n",
    "# Using multiple GPU with this nn.DataParallel\n",
    "spec_layer = torch.nn.DataParallel(spec_layer)\n",
    "spec = spec_layer(x)\n",
    "cqt2010 = spec.cpu().numpy() # saving to RAM for plotting later"
   ]
  },
  {
   "cell_type": "code",
   "execution_count": 13,
   "metadata": {},
   "outputs": [
    {
     "data": {
      "text/plain": [
       "Text(0.5, 1.0, 'nnAudio 2010')"
      ]
     },
     "execution_count": 13,
     "metadata": {},
     "output_type": "execute_result"
    },
    {
     "data": {
      "image/png": "[encoded data removed]",
      "text/plain": [
       "<Figure size 864x288 with 2 Axes>"
      ]
     },
     "metadata": {
      "needs_background": "light"
     },
     "output_type": "display_data"
    }
   ],
   "source": [
    "fig, ax = plt.subplots(1, 2, figsize=(12,4))\n",
    "ax[0].imshow(cqt1992[0],aspect='auto', origin='lower')\n",
    "ax[0].tick_params(labelsize=16)\n",
    "ax[0].set_title('nnAudio 1992', size=20)\n",
    "\n",
    "ax[1].imshow(cqt2010[0], aspect='auto', origin='lower')\n",
    "ax[1].tick_params(labelsize=16)\n",
    "ax[1].set_title('nnAudio 2010', size=20)\n"
   ]
  }
 ],
 "metadata": {
  "kernelspec": {
   "display_name": "Python 3",
   "language": "python",
   "name": "python3"
  },
  "language_info": {
   "codemirror_mode": {
    "name": "ipython",
    "version": 3
   },
   "file_extension": ".py",
   "mimetype": "text/x-python",
   "name": "python",
   "nbconvert_exporter": "python",
   "pygments_lexer": "ipython3",
   "version": "3.6.8"
  }
 },
 "nbformat": 4,
 "nbformat_minor": 2
}
