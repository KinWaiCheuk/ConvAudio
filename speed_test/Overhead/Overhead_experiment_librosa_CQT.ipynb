{
 "cells": [
  {
   "cell_type": "code",
   "execution_count": 1,
   "metadata": {},
   "outputs": [],
   "source": [
    "import os,sys,signal\n",
    "import math\n",
    "\n",
    "import pickle\n",
    "import numpy as np                                       # fast vectors and matrices\n",
    "import matplotlib.pyplot as plt                          # plotting\n",
    "import argparse\n",
    "\n",
    "import torch\n",
    "from torch.nn.functional import conv1d, mse_loss\n",
    "import torch.nn.functional as F\n",
    "import torch.nn as nn\n",
    "from nnAudio import Spectrogram\n",
    "from time import time\n",
    "\n",
    "# For the dataloading\n",
    "from Dataset import MusicNet_Spec\n",
    "from constants import *\n",
    "\n",
    "from librosa import stft, load, cqt\n",
    "from librosa.feature import melspectrogram\n",
    "import glob\n",
    "import tqdm\n",
    "import soundfile\n",
    "import numpy as np\n",
    "\n",
    "# parser = argparse.ArgumentParser()\n",
    "# parser.add_argument(\"resolution\", type=int,help=\"Resolution for CQT:\")\n",
    "# args = parser.parse_args()\n",
    "\n",
    "\n",
    "device = 'cuda:0'"
   ]
  },
  {
   "cell_type": "code",
   "execution_count": 2,
   "metadata": {},
   "outputs": [],
   "source": [
    "batch_size = 16\n",
    "resolution = 1\n",
    "bins_per_octave = 12*resolution\n",
    "n_bins = 88*resolution\n",
    "network_factor = 4096//(88*resolution)"
   ]
  },
  {
   "cell_type": "code",
   "execution_count": null,
   "metadata": {},
   "outputs": [
    {
     "name": "stderr",
     "output_type": "stream",
     "text": [
      " 48%|████▊     | 154/320 [25:18<22:38,  8.18s/it] "
     ]
    }
   ],
   "source": [
    "for file in tqdm.tqdm(glob.glob('./data/train_data/*.wav')):\n",
    "    audio, sr = soundfile.read(file, dtype=np.float32)\n",
    "    spec = abs(cqt(audio, sr=44100, n_bins=n_bins, bins_per_octave=bins_per_octave, hop_length=512))\n",
    "    np.save(file[:-3]+'spec',spec)"
   ]
  },
  {
   "cell_type": "code",
   "execution_count": 7,
   "metadata": {},
   "outputs": [
    {
     "name": "stderr",
     "output_type": "stream",
     "text": [
      "\r",
      "Loading group train: 0it [00:00, ?it/s]"
     ]
    },
    {
     "name": "stdout",
     "output_type": "stream",
     "text": [
      "Loading 1 group of MusicNet_Spec at ./data/\n"
     ]
    },
    {
     "name": "stderr",
     "output_type": "stream",
     "text": [
      "Loading group train: 320it [01:23,  3.74it/s]\n"
     ]
    }
   ],
   "source": [
    "start = time()\n",
    "train_set = MusicNet_Spec(path='./data/', groups=['train'], sequence_length=327680, refresh=True)\n",
    "loading_time = time()-start"
   ]
  },
  {
   "cell_type": "code",
   "execution_count": 8,
   "metadata": {},
   "outputs": [],
   "source": [
    "train_loader = torch.utils.data.DataLoader(train_set,batch_size=batch_size)"
   ]
  },
  {
   "cell_type": "code",
   "execution_count": 9,
   "metadata": {},
   "outputs": [],
   "source": [
    "lr = 1e-4\n",
    "\n",
    "\n",
    "Loss = torch.nn.BCELoss()\n",
    "def L(yhatvar,y):\n",
    "    return Loss(yhatvar,y) * 128/2\n",
    "\n",
    "class Model(torch.nn.Module):\n",
    "    def __init__(self):\n",
    "        super(Model, self).__init__()\n",
    "        f_kernal = 128//network_factor\n",
    "        self.freq_cnn1 = torch.nn.Conv2d(1,4, (f_kernal,3), stride=(8,1), padding=1)\n",
    "        self.freq_cnn2 = torch.nn.Conv2d(4,8, (f_kernal,3), stride=(8,1), padding=1)\n",
    "        shape = self.shape_inference(f_kernal)\n",
    "        self.bilstm = torch.nn.LSTM(8*shape, 8*shape, batch_first=True, bidirectional=True)\n",
    "        self.pitch_classifier = torch.nn.Linear(shape*8*2, 88)\n",
    "\n",
    "    def shape_inference(self, f_kernal):\n",
    "        layer1 = (n_bins+2-(f_kernal))//8 + 1 \n",
    "        layer2 = (layer1+2-(f_kernal))//8 + 1 \n",
    "        return layer2        \n",
    "        \n",
    "    def forward(self,x):\n",
    "        x = torch.log(x+1e-3)\n",
    "        x = torch.relu(self.freq_cnn1(x.unsqueeze(1)))\n",
    "        x = torch.relu(self.freq_cnn2(x))\n",
    "        x, _ = self.bilstm(x.view(x.size(0), x.size(1)*x.size(2), x.size(3)).transpose(1,2))\n",
    "        x = torch.sigmoid(self.pitch_classifier(x))\n",
    "        \n",
    "        return x\n",
    "    \n",
    "model = Model()\n",
    "model.to(device)\n",
    "\n",
    "optimizer = torch.optim.Adam(model.parameters(), lr=lr)\n",
    "loss_fn  = torch.nn.BCELoss()\n"
   ]
  },
  {
   "cell_type": "code",
   "execution_count": 10,
   "metadata": {},
   "outputs": [
    {
     "name": "stdout",
     "output_type": "stream",
     "text": [
      "epoch\ttrain loss\ttime\n",
      "1\t0.692741\t1.296670                                                                                                                                                                                     \n",
      "2\t0.687791\t1.023066                                                                                                                                                                                     \n",
      "3\t0.683164\t1.153029                                                                                                                                                                                     \n",
      "4\t0.678095\t1.055359                                                                                                                                                                                     \n",
      "5\t0.672676\t1.073807                                                                                                                                                                                     \n",
      "6\t0.666075\t1.229685                                                                                                                                                                                     \n",
      "7\t0.657901\t1.095243                                                                                                                                                                                     \n",
      "8\t0.647582\t1.025450                                                                                                                                                                                     \n",
      "9\t0.632713\t1.021458                                                                                                                                                                                     \n",
      "10\t0.613808\t1.064145                                                                                                                                                                                    \n",
      "11\t0.587339\t1.067321                                                                                                                                                                                    \n",
      "12\t0.556081\t1.110315                                                                                                                                                                                    \n",
      "13\t0.518963\t1.058627                                                                                                                                                                                    \n",
      "14\t0.477567\t1.041661                                                                                                                                                                                    \n",
      "15\t0.438515\t1.083946                                                                                                                                                                                    \n",
      "16\t0.402638\t1.142642                                                                                                                                                                                    \n",
      "17\t0.370673\t1.021264                                                                                                                                                                                    \n",
      "18\t0.343129\t1.011993                                                                                                                                                                                    \n",
      "19\t0.318880\t1.047431                                                                                                                                                                                    \n",
      "20\t0.299293\t1.061488                                                                                                                                                                                    \n",
      "21\t0.281633\t1.039002                                                                                                                                                                                    \n",
      "22\t0.265940\t1.070771                                                                                                                                                                                    \n",
      "23\t0.252890\t1.059105                                                                                                                                                                                    \n",
      "24\t0.242183\t1.014356                                                                                                                                                                                    \n",
      "25\t0.232395\t1.053287                                                                                                                                                                                    \n",
      "26\t0.223331\t1.018750                                                                                                                                                                                    \n",
      "27\t0.215157\t1.149409                                                                                                                                                                                    \n",
      "28\t0.208544\t1.090445                                                                                                                                                                                    \n",
      "29\t0.201474\t1.066896                                                                                                                                                                                    \n",
      "30\t0.195044\t1.015361                                                                                                                                                                                    \n",
      "31\t0.191549\t1.114948                                                                                                                                                                                    \n",
      "32\t0.186545\t1.071571                                                                                                                                                                                    \n",
      "33\t0.182692\t1.019842                                                                                                                                                                                    \n",
      "34\t0.178035\t1.028767                                                                                                                                                                                    \n",
      "35\t0.174730\t1.090663                                                                                                                                                                                    \n",
      "36\t0.170328\t1.026367                                                                                                                                                                                    \n",
      "37\t0.170942\t1.014102                                                                                                                                                                                    \n",
      "38\t0.166661\t1.025796                                                                                                                                                                                    \n",
      "39\t0.163509\t1.022614                                                                                                                                                                                    \n",
      "40\t0.160484\t1.059535                                                                                                                                                                                    \n",
      "41\t0.157229\t1.077553                                                                                                                                                                                    \n"
     ]
    },
    {
     "name": "stdout",
     "output_type": "stream",
     "text": [
      "42\t0.156315\t1.050587                                                                                                                                                                                    \n",
      "43\t0.154581\t1.018626                                                                                                                                                                                    \n",
      "44\t0.153826\t1.016709                                                                                                                                                                                    \n",
      "45\t0.151420\t1.052085                                                                                                                                                                                    \n",
      "46\t0.152185\t1.010567                                                                                                                                                                                    \n",
      "47\t0.149795\t1.040368                                                                                                                                                                                    \n",
      "48\t0.149826\t1.048987                                                                                                                                                                                    \n",
      "49\t0.147852\t1.025963                                                                                                                                                                                    \n",
      "50\t0.146876\t1.068452                                                                                                                                                                                    \n"
     ]
    }
   ],
   "source": [
    "epoches = 50\n",
    "times = []\n",
    "loss_histroy = []\n",
    "print(\"epoch\\ttrain loss\\ttime\")\n",
    "total_i = len(train_loader)\n",
    "for e in range(epoches):\n",
    "    running_loss = 0\n",
    "    start = time()\n",
    "    for idx, data in enumerate(train_loader):\n",
    "        optimizer.zero_grad()\n",
    "        y_pred = model(data['audio'].to(device))\n",
    "        loss = loss_fn(y_pred, data['frame'].to(device))\n",
    "        loss.backward()\n",
    "        optimizer.step()\n",
    "\n",
    "        # print statistics\n",
    "        running_loss += loss.item()        \n",
    "        \n",
    "        print(f\"Training {idx+1}/{total_i} batches\\t Loss: {loss.item()}\", end = '\\r')\n",
    "    time_used = time()-start\n",
    "    times.append(time_used)\n",
    "    print(' '*200, end='\\r')\n",
    "    print(f'{e+1}\\t{running_loss/total_i:.6f}\\t{time_used:.6f}')\n",
    "    loss_histroy.append(running_loss/total_i)"
   ]
  },
  {
   "cell_type": "code",
   "execution_count": 11,
   "metadata": {},
   "outputs": [
    {
     "data": {
      "text/plain": [
       "[<matplotlib.lines.Line2D at 0x7f4fddb4a9b0>]"
      ]
     },
     "execution_count": 11,
     "metadata": {},
     "output_type": "execute_result"
    },
    {
     "data": {
      "image/png": "[encoded data removed]",
      "text/plain": [
       "<Figure size 432x288 with 1 Axes>"
      ]
     },
     "metadata": {
      "needs_background": "light"
     },
     "output_type": "display_data"
    }
   ],
   "source": [
    "plt.plot(loss_histroy)"
   ]
  },
  {
   "cell_type": "code",
   "execution_count": null,
   "metadata": {},
   "outputs": [],
   "source": [
    "librosa_result = {}"
   ]
  },
  {
   "cell_type": "code",
   "execution_count": null,
   "metadata": {},
   "outputs": [],
   "source": [
    "librosa_result['loss_histroy'] = loss_histroy\n",
    "librosa_result['time_histroy'] = times\n",
    "librosa_result['loading_time'] = loading_time"
   ]
  },
  {
   "cell_type": "code",
   "execution_count": null,
   "metadata": {},
   "outputs": [],
   "source": [
    "import pickle"
   ]
  },
  {
   "cell_type": "code",
   "execution_count": null,
   "metadata": {},
   "outputs": [],
   "source": [
    "with open(f'./librosa_result_STFT-{n_fft}', 'wb') as f:\n",
    "    pickle.dump(librosa_result,f)"
   ]
  }
 ],
 "metadata": {
  "kernelspec": {
   "display_name": "Python 3",
   "language": "python",
   "name": "python3"
  },
  "language_info": {
   "codemirror_mode": {
    "name": "ipython",
    "version": 3
   },
   "file_extension": ".py",
   "mimetype": "text/x-python",
   "name": "python",
   "nbconvert_exporter": "python",
   "pygments_lexer": "ipython3",
   "version": "3.6.8"
  }
 },
 "nbformat": 4,
 "nbformat_minor": 2
}
