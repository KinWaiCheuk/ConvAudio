{
 "cells": [
  {
   "cell_type": "code",
   "execution_count": 15,
   "metadata": {},
   "outputs": [],
   "source": [
    "import pickle\n",
    "import datetime"
   ]
  },
  {
   "cell_type": "markdown",
   "metadata": {},
   "source": [
    "# GTX 1070 Ti"
   ]
  },
  {
   "cell_type": "markdown",
   "metadata": {},
   "source": [
    "## nnAudio"
   ]
  },
  {
   "cell_type": "code",
   "execution_count": 28,
   "metadata": {},
   "outputs": [
    {
     "name": "stdout",
     "output_type": "stream",
     "text": [
      "STFT_256 = 0:00:26.912268\n",
      "STFT_512 = 0:00:28.501596\n",
      "STFT_1024 = 0:00:37.486700\n",
      "STFT_2048 = 0:01:07.030220\n",
      "STFT_4096 = 0:02:37.535399\n",
      "STFT-log_256 = 0:00:26.713174\n",
      "STFT-log_512 = 0:00:29.616890\n",
      "STFT-log_1024 = 0:00:38.036692\n",
      "STFT-log_2048 = 0:01:06.891250\n",
      "STFT-log_4096 = 0:02:37.573347\n",
      "Mel-256-n_bins128 = 0:00:27.068385\n",
      "Mel-512-n_bins128 = 0:00:30.065353\n",
      "Mel-512-n_bins256 = 0:00:30.851040\n",
      "Mel-1024-n_bins128 = 0:00:39.549134\n",
      "Mel-1024-n_bins256 = 0:00:40.745878\n",
      "Mel-1024-n_bins512 = 0:00:42.084334\n",
      "Mel-2048-n_bins128 = 0:01:10.328070\n",
      "Mel-2048-n_bins256 = 0:01:11.882718\n",
      "Mel-2048-n_bins512 = 0:01:12.894150\n",
      "Mel-2048-n_bins1024 = 0:01:16.894749\n",
      "Mel-4096-n_bins128 = 0:02:41.857047\n",
      "Mel-4096-n_bins256 = 0:02:43.689124\n",
      "Mel-4096-n_bins512 = 0:02:45.351744\n",
      "Mel-4096-n_bins1024 = 0:02:51.092774\n",
      "Mel-4096-n_bins2048 = 0:03:01.076836\n",
      "CQT-r=1 = 0:05:29.948455\n",
      "CQT-r=2 = 0:10:14.985297\n",
      "CQT-r=3 = 0:11:35.690804\n",
      "CQT-r=4 = 0:14:21.211224\n",
      "CQT-r=5 = 0:16:43.457234\n",
      "CQT-r=6 = 0:51:21.415540\n",
      "CQT-r=7 = 0:33:45.549494\n",
      "CQT-r=8 = 0:36:30.368676\n",
      "CQT-r=9 = 0:37:36.673198\n",
      "CQT-r=10 = 0:41:30.260690\n",
      "total time taken = 4:52:11.289484\n"
     ]
    }
   ],
   "source": [
    "pytorch_result = pickle.load(open('./GTX 1070 Ti/Pytorch_result', 'rb'))\n",
    "\n",
    "for i in pytorch_result:\n",
    "    print(f'{i} = {datetime.timedelta(seconds=pytorch_result[i])}')\n",
    "\n",
    "counter = 0\n",
    "for i in pytorch_result:\n",
    "    counter += pytorch_result[i]  \n",
    "\n",
    "print(f'total time taken = {datetime.timedelta(seconds=counter)}')"
   ]
  },
  {
   "cell_type": "markdown",
   "metadata": {},
   "source": [
    "## librosa"
   ]
  },
  {
   "cell_type": "code",
   "execution_count": 29,
   "metadata": {},
   "outputs": [
    {
     "name": "stdout",
     "output_type": "stream",
     "text": [
      "librosa_STFT_256 = 0:01:02.293494\n",
      "librosa_STFT_512 = 0:01:33.273945\n",
      "librosa_STFT_1024 = 0:02:39.651217\n",
      "librosa_STFT_2048 = 0:04:56.626312\n",
      "librosa_STFT_4096 = 0:09:17.508771\n",
      "Mel-512-n_bins128 = 0:01:36.759713\n",
      "Mel-512-n_bins256 = 0:01:44.155211\n",
      "Mel-1024-n_bins128 = 0:02:34.651578\n",
      "Mel-1024-n_bins256 = 0:02:42.676379\n",
      "Mel-1024-n_bins512 = 0:03:01.093835\n",
      "Mel-2048-n_bins128 = 0:04:40.494754\n",
      "Mel-2048-n_bins256 = 0:04:49.507656\n",
      "Mel-2048-n_bins512 = 0:05:14.897651\n",
      "Mel-2048-n_bins1024 = 0:06:04.972760\n",
      "Mel-4096-n_bins128 = 0:09:05.715115\n",
      "Mel-4096-n_bins256 = 0:09:21.488884\n",
      "Mel-4096-n_bins512 = 0:09:55.251770\n",
      "Mel-4096-n_bins1024 = 0:11:04.278916\n",
      "Mel-4096-n_bins2048 = 0:13:08.720360\n",
      "CQT-r=1 = 0:30:57.817399\n",
      "CQT-r=2 = 0:36:37.397496\n",
      "CQT-r=3 = 0:44:26.241493\n",
      "CQT-r=4 = 0:45:00.497613\n",
      "CQT-r=5 = 0:45:33.039598\n",
      "CQT-r=6 = 1:04:05.054436\n",
      "CQT-r=7 = 1:04:42.020723\n",
      "CQT-r=8 = 1:05:22.695260\n",
      "CQT-r=9 = 1:05:55.948191\n",
      "CQT-r=10 = 1:06:36.514093\n",
      "total time taken = 10:33:51.244622\n"
     ]
    }
   ],
   "source": [
    "pytorch_result = pickle.load(open('./GTX 1070 Ti/librosa_result', 'rb'))\n",
    "\n",
    "for i in pytorch_result:\n",
    "    print(f'{i} = {datetime.timedelta(seconds=pytorch_result[i])}')\n",
    "\n",
    "counter = 0\n",
    "for i in pytorch_result:\n",
    "    counter += pytorch_result[i]  \n",
    "\n",
    "print(f'total time taken = {datetime.timedelta(seconds=counter)}')"
   ]
  },
  {
   "cell_type": "markdown",
   "metadata": {},
   "source": [
    "# RTX 2080 Ti"
   ]
  },
  {
   "cell_type": "markdown",
   "metadata": {},
   "source": [
    "## nnAudio"
   ]
  },
  {
   "cell_type": "code",
   "execution_count": 30,
   "metadata": {},
   "outputs": [
    {
     "name": "stdout",
     "output_type": "stream",
     "text": [
      "STFT_256 = 0:00:08.419160\n",
      "STFT_512 = 0:00:08.316834\n",
      "STFT_1024 = 0:00:08.777071\n",
      "STFT_2048 = 0:00:15.502228\n",
      "STFT_4096 = 0:00:45.817275\n",
      "STFT-log_256 = 0:00:08.325851\n",
      "STFT-log_512 = 0:00:08.328085\n",
      "STFT-log_1024 = 0:00:08.844773\n",
      "STFT-log_2048 = 0:00:15.486005\n",
      "STFT-log_4096 = 0:00:46.223829\n",
      "Mel-256-n_bins128 = 0:00:08.361821\n",
      "Mel-512-n_bins128 = 0:00:08.323412\n",
      "Mel-512-n_bins256 = 0:00:08.335434\n",
      "Mel-1024-n_bins128 = 0:00:09.086328\n",
      "Mel-1024-n_bins256 = 0:00:09.188646\n",
      "Mel-1024-n_bins512 = 0:00:09.517395\n",
      "Mel-2048-n_bins128 = 0:00:16.357588\n",
      "Mel-2048-n_bins256 = 0:00:16.702584\n",
      "Mel-2048-n_bins512 = 0:00:17.250502\n",
      "Mel-2048-n_bins1024 = 0:00:18.390561\n",
      "Mel-4096-n_bins128 = 0:00:48.046648\n",
      "Mel-4096-n_bins256 = 0:00:48.645209\n",
      "Mel-4096-n_bins512 = 0:00:49.799383\n",
      "Mel-4096-n_bins1024 = 0:00:51.699262\n",
      "Mel-4096-n_bins2048 = 0:00:55.673507\n",
      "CQT-r=1 = 0:00:35.640551\n",
      "CQT-r=2 = 0:01:16.678639\n",
      "CQT-r=3 = 0:02:40.730609\n",
      "CQT-r=4 = 0:06:26.066705\n",
      "CQT-r=5 = 0:05:00.015202\n",
      "CQT-r=6 = 0:13:13.164837\n",
      "CQT-r=7 = 0:21:49.111275\n",
      "CQT-r=8 = 0:22:44.409605\n",
      "CQT-r=9 = 0:27:24.062531\n",
      "CQT-r=10 = 0:32:41.874250\n",
      "total time taken = 2:23:01.173598\n"
     ]
    }
   ],
   "source": [
    "pytorch_result = pickle.load(open('./RTX 2080 Ti/Pytorch_result', 'rb'))\n",
    "\n",
    "for i in pytorch_result:\n",
    "    print(f'{i} = {datetime.timedelta(seconds=pytorch_result[i])}')\n",
    "\n",
    "counter = 0\n",
    "for i in pytorch_result:\n",
    "    counter += pytorch_result[i]  \n",
    "\n",
    "print(f'total time taken = {datetime.timedelta(seconds=counter)}')"
   ]
  },
  {
   "cell_type": "markdown",
   "metadata": {},
   "source": [
    "## librosa"
   ]
  },
  {
   "cell_type": "code",
   "execution_count": 31,
   "metadata": {},
   "outputs": [
    {
     "name": "stdout",
     "output_type": "stream",
     "text": [
      "librosa_STFT_256 = 0:00:31.216110\n",
      "librosa_STFT_512 = 0:00:51.310209\n",
      "librosa_STFT_1024 = 0:01:31.172320\n",
      "librosa_STFT_2048 = 0:02:54.291436\n",
      "librosa_STFT_4096 = 0:05:46.070041\n",
      "Mel-512-n_bins128 = 0:00:55.786808\n",
      "Mel-512-n_bins256 = 0:01:01.692698\n",
      "Mel-1024-n_bins128 = 0:01:34.619406\n",
      "Mel-1024-n_bins256 = 0:01:43.715536\n",
      "Mel-1024-n_bins512 = 0:02:00.980347\n",
      "Mel-2048-n_bins128 = 0:02:58.483834\n",
      "Mel-2048-n_bins256 = 0:03:13.018610\n",
      "Mel-2048-n_bins512 = 0:03:42.568941\n",
      "Mel-2048-n_bins1024 = 0:04:42.062343\n",
      "Mel-4096-n_bins128 = 0:05:49.537641\n",
      "Mel-4096-n_bins256 = 0:06:13.904669\n",
      "Mel-4096-n_bins512 = 0:07:05.174946\n",
      "Mel-4096-n_bins1024 = 0:08:50.543715\n",
      "Mel-4096-n_bins2048 = 0:12:23.994288\n",
      "CQT-r=1 = 0:24:15.866808\n",
      "CQT-r=2 = 0:27:14.104880\n",
      "CQT-r=3 = 0:32:23.955292\n",
      "CQT-r=4 = 0:32:52.706064\n",
      "CQT-r=5 = 0:33:18.559949\n",
      "CQT-r=6 = 0:43:24.362253\n",
      "CQT-r=7 = 0:43:21.133615\n",
      "CQT-r=8 = 0:44:07.953250\n",
      "CQT-r=9 = 0:44:54.208731\n",
      "CQT-r=10 = 0:45:24.577847\n",
      "total time taken = 7:25:07.572589\n"
     ]
    }
   ],
   "source": [
    "pytorch_result = pickle.load(open('./RTX 2080 Ti/librosa_result', 'rb'))\n",
    "\n",
    "for i in pytorch_result:\n",
    "    print(f'{i} = {datetime.timedelta(seconds=pytorch_result[i])}')\n",
    "\n",
    "counter = 0\n",
    "for i in pytorch_result:\n",
    "    counter += pytorch_result[i]  \n",
    "\n",
    "print(f'total time taken = {datetime.timedelta(seconds=counter)}')"
   ]
  },
  {
   "cell_type": "code",
   "execution_count": null,
   "metadata": {},
   "outputs": [],
   "source": []
  }
 ],
 "metadata": {
  "kernelspec": {
   "display_name": "Python 3",
   "language": "python",
   "name": "python3"
  },
  "language_info": {
   "codemirror_mode": {
    "name": "ipython",
    "version": 3
   },
   "file_extension": ".py",
   "mimetype": "text/x-python",
   "name": "python",
   "nbconvert_exporter": "python",
   "pygments_lexer": "ipython3",
   "version": "3.6.8"
  }
 },
 "nbformat": 4,
 "nbformat_minor": 4
}
