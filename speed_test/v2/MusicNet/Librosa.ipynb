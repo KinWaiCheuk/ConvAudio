{
 "cells": [
  {
   "cell_type": "code",
   "execution_count": null,
   "metadata": {},
   "outputs": [],
   "source": [
    "from librosa.core import stft, cqt\n",
    "from librosa.feature import melspectrogram\n",
    "import scipy\n",
    "import os\n",
    "import glob\n",
    "import tqdm\n",
    "import numpy as np\n",
    "from time import sleep"
   ]
  },
  {
   "cell_type": "code",
   "execution_count": null,
   "metadata": {},
   "outputs": [],
   "source": [
    "# STFT\n",
    "\n",
    "for n_fft in [256,512,1024,2048,4096]:\n",
    "    print(f'n_fft={n_fft}')\n",
    "    sleep(0.5)\n",
    "    for file in tqdm.tqdm(glob.glob('./train_data/*.wav')):\n",
    "        sr, wav = scipy.io.wavfile.read(file)\n",
    "        output_name = os.path.basename(file)[:-4] + '_stft.sp'\n",
    "        output = abs(stft(wav, n_fft=n_fft, hop_length=512))\n",
    "        np.save('./dummy', output)\n",
    "\n",
    "# Mel\n",
    "\n",
    "for n_fft in [512,1024,2048,4096]:\n",
    "    for n_mels in [128, 256, 512, 1024, 2048]:\n",
    "        if n_mels < n_fft:\n",
    "            print(f'n_fft={n_fft}, n_mels={n_mels}')\n",
    "            sleep(0.5)\n",
    "            folder_dir = f'./4096mel-{n_mels}_output/'\n",
    "            for file in tqdm.tqdm(glob.glob('./train_data/*.wav')):\n",
    "                sr, wav = scipy.io.wavfile.read(file)\n",
    "                output_name = os.path.basename(file)[:-4] + '_mel.sp'\n",
    "                output = melspectrogram(wav, sr=44100, n_fft=n_fft, n_mels=n_mels, hop_length=512)\n",
    "                np.save('./dummy', output)\n",
    "        else:\n",
    "            continue\n",
    "\n",
    "\n",
    "# CQT\n",
    "\n",
    "for r in [1, 2, 3, 5, 6, 7, 8, 9, 10]:\n",
    "    folder_dir = f'./CQT-r={r}_output/'\n",
    "    print(f'r = {r}')\n",
    "    sleep(0.5)\n",
    "    for file in tqdm.tqdm(glob.glob('./train_data/*.wav')):\n",
    "        sr, wav = scipy.io.wavfile.read(file)\n",
    "        output_name = os.path.basename(file)[:-4] + '_cqt.sp'\n",
    "        output = abs(cqt(wav, n_bins=84*r, bins_per_octave=12*r))\n",
    "        np.save('./dummy', output)"
   ]
  },
  {
   "cell_type": "code",
   "execution_count": null,
   "metadata": {},
   "outputs": [],
   "source": []
  }
 ],
 "metadata": {
  "kernelspec": {
   "display_name": "Python 3",
   "language": "python",
   "name": "python3"
  },
  "language_info": {
   "codemirror_mode": {
    "name": "ipython",
    "version": 3
   },
   "file_extension": ".py",
   "mimetype": "text/x-python",
   "name": "python",
   "nbconvert_exporter": "python",
   "pygments_lexer": "ipython3",
   "version": "3.6.8"
  }
 },
 "nbformat": 4,
 "nbformat_minor": 4
}
