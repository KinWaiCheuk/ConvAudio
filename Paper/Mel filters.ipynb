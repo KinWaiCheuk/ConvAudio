{
 "cells": [
  {
   "cell_type": "code",
   "execution_count": 241,
   "metadata": {},
   "outputs": [],
   "source": [
    "from librosa.filters import mel\n",
    "import matplotlib.pyplot as plt"
   ]
  },
  {
   "cell_type": "code",
   "execution_count": 278,
   "metadata": {},
   "outputs": [],
   "source": [
    "sr = 22050\n",
    "n_fft = 256\n",
    "n_mels = 4\n",
    "fmin=0\n",
    "fmax = sr/2"
   ]
  },
  {
   "cell_type": "code",
   "execution_count": 279,
   "metadata": {},
   "outputs": [],
   "source": [
    "mel_fb = mel(22050, 256, 4)"
   ]
  },
  {
   "cell_type": "code",
   "execution_count": 280,
   "metadata": {},
   "outputs": [
    {
     "data": {
      "image/png": "[encoded data removed]",
      "text/plain": [
       "<Figure size 432x288 with 1 Axes>"
      ]
     },
     "metadata": {
      "needs_background": "light"
     },
     "output_type": "display_data"
    }
   ],
   "source": [
    "for i in mel_fb:\n",
    "    plt.plot(i)"
   ]
  },
  {
   "cell_type": "code",
   "execution_count": 281,
   "metadata": {},
   "outputs": [],
   "source": [
    "n_mels = int(n_mels)\n",
    "weights = np.zeros((n_mels, int(1 + n_fft // 2)), dtype=np.float32)"
   ]
  },
  {
   "cell_type": "code",
   "execution_count": 283,
   "metadata": {},
   "outputs": [],
   "source": [
    "# Center freqs of each FFT bin\n",
    "fftfreqs = fft_frequencies(sr=sr, n_fft=n_fft)\n",
    "\n",
    "# 'Center freqs' of mel bands - uniformly spaced between limits\n",
    "mel_f = mel_frequencies(n_mels + 2, fmin=fmin, fmax=fmax, htk=False)"
   ]
  },
  {
   "cell_type": "code",
   "execution_count": 286,
   "metadata": {},
   "outputs": [],
   "source": [
    "fdiff = np.diff(mel_f)"
   ]
  },
  {
   "cell_type": "code",
   "execution_count": 289,
   "metadata": {},
   "outputs": [
    {
     "data": {
      "text/plain": [
       "array([    0.       ,    86.1328125,   172.265625 ,   258.3984375,\n",
       "         344.53125  ,   430.6640625,   516.796875 ,   602.9296875,\n",
       "         689.0625   ,   775.1953125,   861.328125 ,   947.4609375,\n",
       "        1033.59375  ,  1119.7265625,  1205.859375 ,  1291.9921875,\n",
       "        1378.125    ,  1464.2578125,  1550.390625 ,  1636.5234375,\n",
       "        1722.65625  ,  1808.7890625,  1894.921875 ,  1981.0546875,\n",
       "        2067.1875   ,  2153.3203125,  2239.453125 ,  2325.5859375,\n",
       "        2411.71875  ,  2497.8515625,  2583.984375 ,  2670.1171875,\n",
       "        2756.25     ,  2842.3828125,  2928.515625 ,  3014.6484375,\n",
       "        3100.78125  ,  3186.9140625,  3273.046875 ,  3359.1796875,\n",
       "        3445.3125   ,  3531.4453125,  3617.578125 ,  3703.7109375,\n",
       "        3789.84375  ,  3875.9765625,  3962.109375 ,  4048.2421875,\n",
       "        4134.375    ,  4220.5078125,  4306.640625 ,  4392.7734375,\n",
       "        4478.90625  ,  4565.0390625,  4651.171875 ,  4737.3046875,\n",
       "        4823.4375   ,  4909.5703125,  4995.703125 ,  5081.8359375,\n",
       "        5167.96875  ,  5254.1015625,  5340.234375 ,  5426.3671875,\n",
       "        5512.5      ,  5598.6328125,  5684.765625 ,  5770.8984375,\n",
       "        5857.03125  ,  5943.1640625,  6029.296875 ,  6115.4296875,\n",
       "        6201.5625   ,  6287.6953125,  6373.828125 ,  6459.9609375,\n",
       "        6546.09375  ,  6632.2265625,  6718.359375 ,  6804.4921875,\n",
       "        6890.625    ,  6976.7578125,  7062.890625 ,  7149.0234375,\n",
       "        7235.15625  ,  7321.2890625,  7407.421875 ,  7493.5546875,\n",
       "        7579.6875   ,  7665.8203125,  7751.953125 ,  7838.0859375,\n",
       "        7924.21875  ,  8010.3515625,  8096.484375 ,  8182.6171875,\n",
       "        8268.75     ,  8354.8828125,  8441.015625 ,  8527.1484375,\n",
       "        8613.28125  ,  8699.4140625,  8785.546875 ,  8871.6796875,\n",
       "        8957.8125   ,  9043.9453125,  9130.078125 ,  9216.2109375,\n",
       "        9302.34375  ,  9388.4765625,  9474.609375 ,  9560.7421875,\n",
       "        9646.875    ,  9733.0078125,  9819.140625 ,  9905.2734375,\n",
       "        9991.40625  , 10077.5390625, 10163.671875 , 10249.8046875,\n",
       "       10335.9375   , 10422.0703125, 10508.203125 , 10594.3359375,\n",
       "       10680.46875  , 10766.6015625, 10852.734375 , 10938.8671875,\n",
       "       11025.       ])"
      ]
     },
     "execution_count": 289,
     "metadata": {},
     "output_type": "execute_result"
    }
   ],
   "source": [
    "fftfreqs"
   ]
  },
  {
   "cell_type": "code",
   "execution_count": 288,
   "metadata": {},
   "outputs": [
    {
     "data": {
      "text/plain": [
       "array([    0.        ,   665.47459307,  1406.77545173,  2794.31944913,\n",
       "        5550.43889495, 11025.        ])"
      ]
     },
     "execution_count": 288,
     "metadata": {},
     "output_type": "execute_result"
    }
   ],
   "source": [
    "mel_f"
   ]
  },
  {
   "cell_type": "code",
   "execution_count": 287,
   "metadata": {},
   "outputs": [
    {
     "data": {
      "text/plain": [
       "array([ 665.47459307,  741.30085866, 1387.54399739, 2756.11944583,\n",
       "       5474.56110505])"
      ]
     },
     "execution_count": 287,
     "metadata": {},
     "output_type": "execute_result"
    }
   ],
   "source": [
    "fdiff"
   ]
  },
  {
   "cell_type": "code",
   "execution_count": null,
   "metadata": {},
   "outputs": [],
   "source": []
  }
 ],
 "metadata": {
  "kernelspec": {
   "display_name": "Python 3",
   "language": "python",
   "name": "python3"
  },
  "language_info": {
   "codemirror_mode": {
    "name": "ipython",
    "version": 3
   },
   "file_extension": ".py",
   "mimetype": "text/x-python",
   "name": "python",
   "nbconvert_exporter": "python",
   "pygments_lexer": "ipython3",
   "version": "3.6.8"
  }
 },
 "nbformat": 4,
 "nbformat_minor": 2
}
